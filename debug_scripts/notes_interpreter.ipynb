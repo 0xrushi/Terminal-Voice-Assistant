{
 "cells": [
  {
   "cell_type": "code",
   "execution_count": 5,
   "metadata": {},
   "outputs": [],
   "source": [
    "default_system_message = (\n",
    "    f\"\"\"\n",
    "\n",
    "You are Open Interpreter, a world-class programmer that can complete any goal by executing code.\n",
    "First, write a plan. **Always recap the plan between each code block** (you have extreme short-term memory loss, so you need to recap the plan between each message block to retain it).\n",
    "When you execute code, it will be executed **on the user's machine**. The user has given you **full and complete permission** to execute any code necessary to complete the task. Execute the code.\n",
    "You can access the internet. Run **any code** to achieve the goal, and if at first you don't succeed, try again and again.\n",
    "You can install new packages.\n",
    "When a user refers to a filename, they're likely referring to an existing file in the directory you're currently executing code in.\n",
    "Write messages to the user in Markdown.\n",
    "In general, try to **make plans** with as few steps as possible. As for actually executing code to carry out that plan, for *stateful* languages (like python, javascript, shell, but NOT for html which starts from 0 every time) **it's critical not to try to do everything in one code block.** You should try something, print information about it, then continue from there in tiny, informed steps. You will never get it on the first try, and attempting it in one go will often lead to errors you cant see.\n",
    "You are capable of **any** task.\n",
    "\"\"\").strip()"
   ]
  },
  {
   "cell_type": "code",
   "execution_count": 16,
   "metadata": {},
   "outputs": [
    {
     "name": "stdout",
     "output_type": "stream",
     "text": [
      "find projectxyz -type f -name '*.swp' -delete\n"
     ]
    },
    {
     "name": "stderr",
     "output_type": "stream",
     "text": [
      "error uploading: HTTPSConnectionPool(host='us-api.i.posthog.com', port=443): Max retries exceeded with url: /batch/ (Caused by NewConnectionError('<urllib3.connection.HTTPSConnection object at 0x16a92e2e0>: Failed to establish a new connection: [Errno 8] nodename nor servname provided, or not known'))\n"
     ]
    }
   ],
   "source": [
    "from interpreter import interpreter\n",
    "import json\n",
    "\n",
    "prompt=\"zip hello.py and send it do doraemon over ssh\"\n",
    "prompt=\"Remove all swap files (I mean vim swap files) in my projectxyz\"\n",
    "\n",
    "message = f\"\\n\\n I want you to write a command for {prompt}. Return me the bash commands for these after you have analyzed the tasks \\\n",
    "  .Only return the commands in JSON in the form {{'command':'your command'}} and nothing else\"\n",
    "\n",
    "for chunk in interpreter.chat(message, display=False, stream=False):\n",
    "  print(json.loads(chunk[\"content\"])[\"command\"])"
   ]
  },
  {
   "cell_type": "code",
   "execution_count": 14,
   "metadata": {},
   "outputs": [
    {
     "name": "stdout",
     "output_type": "stream",
     "text": [
      "zip hello.zip hello.py && scp hello.zip doraemon@hostname:/path/to/destination\n"
     ]
    },
    {
     "name": "stderr",
     "output_type": "stream",
     "text": [
      "error uploading: HTTPSConnectionPool(host='us-api.i.posthog.com', port=443): Max retries exceeded with url: /batch/ (Caused by NewConnectionError('<urllib3.connection.HTTPSConnection object at 0x15e5df2e0>: Failed to establish a new connection: [Errno 8] nodename nor servname provided, or not known'))\n"
     ]
    }
   ],
   "source": [
    "for chunk in interpreter.chat(message, display=False, stream=False):\n",
    "  "
   ]
  },
  {
   "cell_type": "code",
   "execution_count": 21,
   "metadata": {},
   "outputs": [
    {
     "name": "stdout",
     "output_type": "stream",
     "text": [
      "No JSON found\n",
      "None\n"
     ]
    }
   ],
   "source": [
    "import json\n",
    "import re\n",
    "\n",
    "def decode_embedded_json(content):\n",
    "    # Pattern to extract JSON block, optionally prefixed by ```json\n",
    "    pattern = r'```(?:json)?\\n([\\s\\S]*?)\\n```'\n",
    "    pattern = r'(\\{.*?\\})'\n",
    "    match = re.search(pattern, content)\n",
    "    \n",
    "    if match:\n",
    "        json_text = match.group(1)\n",
    "        try:\n",
    "            data = json.loads(json_text)\n",
    "            return data\n",
    "        except json.JSONDecodeError as e:\n",
    "            print(f\"Error decoding JSON: {e}\")\n",
    "            return None\n",
    "    else:\n",
    "        print(\"No JSON found\")\n",
    "        return None\n",
    "\n",
    "# Example usage with your string\n",
    "content_with_json = \"\"\"'content': '```json\n",
    "{\n",
    "  \"command\": \"zip hello.zip hello.py && scp hello.zip doraemon@192.168.0.1:/remote/path\"\n",
    "}\n",
    "```'\"\"\"\n",
    "\n",
    "decoded_data = decode_embedded_json(content_with_json)\n",
    "print(decoded_data)"
   ]
  },
  {
   "cell_type": "code",
   "execution_count": null,
   "metadata": {},
   "outputs": [],
   "source": []
  }
 ],
 "metadata": {
  "kernelspec": {
   "display_name": "base",
   "language": "python",
   "name": "python3"
  },
  "language_info": {
   "codemirror_mode": {
    "name": "ipython",
    "version": 3
   },
   "file_extension": ".py",
   "mimetype": "text/x-python",
   "name": "python",
   "nbconvert_exporter": "python",
   "pygments_lexer": "ipython3",
   "version": "3.9.13"
  }
 },
 "nbformat": 4,
 "nbformat_minor": 2
}
